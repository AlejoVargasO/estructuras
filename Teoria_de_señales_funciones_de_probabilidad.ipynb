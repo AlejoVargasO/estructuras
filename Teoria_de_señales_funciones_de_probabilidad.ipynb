{
  "nbformat": 4,
  "nbformat_minor": 0,
  "metadata": {
    "colab": {
      "provenance": []
    },
    "kernelspec": {
      "name": "python3",
      "display_name": "Python 3"
    },
    "language_info": {
      "name": "python"
    }
  },
  "cells": [
    {
      "cell_type": "markdown",
      "source": [
        "#Funciones de probabilidad\n"
      ],
      "metadata": {
        "id": "xh7X-4vVDhhI"
      }
    },
    {
      "cell_type": "code",
      "execution_count": null,
      "metadata": {
        "colab": {
          "base_uri": "https://localhost:8080/"
        },
        "id": "H0qK1GsvDb1S",
        "outputId": "95b698f8-80b5-41a1-a759-d966c5e92dde"
      },
      "outputs": [
        {
          "output_type": "stream",
          "name": "stderr",
          "text": [
            "<ipython-input-70-01a41b1d76f4>:37: UserWarning: DelftStack\n",
            "  warnings.warn('DelftStack')\n"
          ]
        }
      ],
      "source": [
        "### LIBRERIAS\n",
        "#@title Posibles librerias a utilizar { run: \"auto\" }\n",
        "## librerias para el funcionamiento del paquete\n",
        "import numpy as np\n",
        "import matplotlib.pyplot as plt\n",
        "import math\n",
        "#%matplotlib inline\n",
        "import matplotlib.pyplot as plt\n",
        "import scipy.stats\n",
        "import warnings\n",
        "warnings.filterwarnings(\"ignore\", message=\"\"\"Caught 'unbalanced parenthesis at position 119' compiling regex\"\"\", category=UserWarning )\n",
        "from scipy.optimize import fmin\n",
        "from mpl_toolkits.mplot3d import Axes3D\n",
        "import pylab as pl\n",
        "from scipy.special import factorial\n",
        "\n",
        "from sklearn.tree import DecisionTreeRegressor\n",
        "from sklearn.linear_model import LinearRegression\n",
        "from sklearn.metrics import mean_squared_error\n",
        "from sklearn.pipeline import make_pipeline\n",
        "from sklearn.preprocessing import KBinsDiscretizer\n",
        "# Bin continuous data into intervals.\n",
        "from sklearn.base import BaseEstimator, TransformerMixin\n",
        "from numpy.lib.shape_base import apply_over_axes\n",
        "\n",
        "from scipy.stats import norm\n",
        "from sklearn.neighbors import KernelDensity\n",
        "\n",
        "import os\n",
        "import sys\n",
        "import pandas as pd\n",
        "# import pandas_datareader.data as web\n",
        "\n",
        "import matplotlib.pyplot as plt\n",
        "import warnings\n",
        "warnings.filterwarnings('ignore', '.*do not.*', )\n",
        "warnings.warn('DelftStack')\n",
        "warnings.warn('Do not show this message')\n",
        "\n",
        "from statsmodels.tsa import ar_model, arima_process, arima, arima_model\n",
        "from statsmodels.tsa.ar_model import AutoReg\n",
        "#!pip install numpy scipy patsy pandas\n",
        "#!pip install statsmodels --upgrade"
      ]
    },
    {
      "cell_type": "markdown",
      "source": [
        "FUNCIONES DE DENSIDAD EXPONENECIAL Y UNIFORME"
      ],
      "metadata": {
        "id": "_INblsWKFh0y"
      }
    },
    {
      "cell_type": "code",
      "source": [
        "from scipy.optimize.nonlin import LinearMixing\n",
        "class EXPOUNIFORM():\n",
        "  \"\"\"\n",
        "  \n",
        "        class that is in charge of handling the estimation by maximum likelihood, \n",
        "        for which 3 parameters are entered:\n",
        "         --------------------------------------\n",
        "         --------------------------------------\n",
        "         Parameters\n",
        "         --------------------------------------------\n",
        "         X_function_Estimate {ndarray} -- Array that have the function \n",
        "         that needs to be estimated under some probability model.\n",
        "\n",
        "         plot{Boolean}-- Parameter that indicate if the user want to plot the \n",
        "         log likely hood function. [default:True]\n",
        "\n",
        "         hist{Boolean}-- Parameter that indicate if the user want to plot the \n",
        "         histogram with the estimate function. [default:True]\n",
        "\n",
        "\n",
        "  \"\"\"\n",
        "  def __init__(self,X_function_estimate: np.array,plot=True,hist=True):\n",
        "    self.X_function_estimate=X_function_estimate\n",
        "    self.plot=plot\n",
        "    self.hist=hist\n",
        "    self.N=len(self.X_function_estimate)\n",
        "\n",
        "  def Exponential(self,lambda_limits:np.array,espace : float =0.10):\n",
        "    \"\"\"\n",
        "      Function that make the EXPO_UNIFORM with a Exponential distribution\n",
        "      ---------------------------------------------------------------\n",
        "      Parameters\n",
        "      ---------------------------------------------------------------\n",
        "      lambda_limits{np.array}--array with 2 values that means the limits of the arrays of\n",
        "      possible lambdas.\n",
        "\n",
        "      espace{float}--constant  for the spacing of the vector of lambdas\n",
        "\n",
        "      Returns\n",
        "      ---------------------------------------------------------------\n",
        "      lambda_estimate{float}-- THE ESTIMATED lambda FOR THE FUNCTION \n",
        "      estimated_exponential{np.array}-- THE ESTIMATED DISTRIBUTION\n",
        "\n",
        "    \"\"\"\n",
        "    \n",
        "    lambdas = np.arange(lambda_limits[0], lambda_limits[1], espace)\n",
        "    log_estimation=self.N*np.log(lambdas)-lambdas*np.sum(self.X_function_estimate)\n",
        "    posicionmax=np.where( log_estimation== np.amax(log_estimation))\n",
        "    lambda_estimate=lambdas[posicionmax]\n",
        "    estimated_exponential=np.random.exponential(1/lambda_estimate,size=self.N)\n",
        "    if(self.plot):\n",
        "      fig=plt.figure(figsize=(6,6))\n",
        "      plt.plot(lambdas, log_estimation)\n",
        "      #ax=Axes3D(fig)\n",
        "      #ax.plot_surface(Lambda,espace,log_estimation)\n",
        "      plt.xlabel('$\\lambda$')\n",
        "      plt.ylabel('log likely hood exponential')\n",
        "      plt.plot(lambda_estimate,log_estimation[posicionmax],color=\"green\",label=\"Lambda Estimated: {}\".format(lambda_estimate),marker='o')\n",
        "      plt.legend()\n",
        "      plt.show()\n",
        "    \n",
        "\n",
        "    if(self.hist):\n",
        "      Nbins = int(1 + 3.322*np.log2(self.N))\n",
        "      plt.figure(figsize=(8,8))\n",
        "      plt.hist(self.X_function_estimate,bins=Nbins,color=\"orange\",label=\"Original\")\n",
        "      plt.hist(estimated_exponential,bins=Nbins,color=\"blue\",label=\"Estimation-lambda{}\".format(lambda_estimate))\n",
        "      plt.legend()\n",
        "      plt.title(\"original and estimated comparison\")\n",
        "    \n",
        "    return lambda_estimate,estimated_exponential\n",
        "  \n",
        "\n",
        "\n",
        "  def Uniform(self,vectorA, vectorb, n):\n",
        "     ## GENERAMOS VECTOR DE A Y B\n",
        "     A = np.linspace(vectorA[0], vectorA[1], n)\n",
        "     B = np.linspace(vectorb[0], vectorb[1], n)\n",
        "     A, B = np.meshgrid(A, B) ## GENERO LAS COMBINACIONES POSIBLES PARA A Y B\n",
        "     log = -self.N*np.log(B-A)\n",
        "     posicionmax=np.where( log== np.amax(log))\n",
        "     A_estimate=A[posicionmax[0],posicionmax[1]]\n",
        "     B_estimate=B[posicionmax[0],posicionmax[1]]\n",
        "     ## GENERAMOS LA UNIFORME ESTIMADA\n",
        "     UniformEstimate= np.random.uniform(A_estimate,B_estimate,self.N); \n",
        "     if(self.plot):\n",
        "      fig=pl.figure(figsize=(6,6))\n",
        "      ax=Axes3D(fig)\n",
        "      ax.plot_surface(A,B,log)\n",
        "      pl.title(\"log likely hood of uniform [A and B] \")\n",
        "      pl.show()\n",
        "    #  if(self.hist):\n",
        "    #    Nbins = int(1 + 3.322*np.log2(self.N))\n",
        "    #    plt.figure(figsize=(8,8))\n",
        "    #    plt.hist(self.X_function_estimate,bins=Nbins,color=\"orange\",label=\"Original\")\n",
        "    #    plt.hist(UniformEstimate,bins=Nbins,color=\"blue\",label=\"Estimation-A {}-B {}\".format(A_estimate,B_estimate))\n",
        "    #    plt.legend()\n",
        "    #    plt.title(\"original and estimated comparison\")\n",
        "    #    plt.show()\n",
        "     return A_estimate,B_estimate,UniformEstimate"
      ],
      "metadata": {
        "id": "uqenA4LwFr_l"
      },
      "execution_count": null,
      "outputs": []
    },
    {
      "cell_type": "code",
      "source": [
        "if __name__==\"__main__\":\n",
        "\n",
        "  \"\"\"\n",
        "  Exponential\n",
        "  \"\"\"\n",
        "# parametros (self,lambda_limits:np.array,espace : float =0.10)\n",
        "  N =  4096 # // numero de muestras \n",
        "  Lambda=[0.5,1]\n",
        "  x = np.random.exponential(Lambda) ## FDP EXPONENCIAL   \n",
        "  EXPO1= EXPOUNIFORM(x) ## TENGO MIS DATOS GUARDADOS \n",
        "  espace=0.001\n",
        "  lambda_estimate,estimated_exponential=EXPO1.Exponential(Lambda,espace)"
      ],
      "metadata": {
        "colab": {
          "base_uri": "https://localhost:8080/",
          "height": 872
        },
        "id": "z2dyCkvzGwmC",
        "outputId": "dca65e35-28f5-4d4f-a457-d0575a224897"
      },
      "execution_count": null,
      "outputs": [
        {
          "output_type": "display_data",
          "data": {
            "text/plain": [
              "<Figure size 432x432 with 1 Axes>"
            ],
            "image/png": "[encoded data removed]"
          },
          "metadata": {
            "needs_background": "light"
          }
        },
        {
          "output_type": "display_data",
          "data": {
            "text/plain": [
              "<Figure size 576x576 with 1 Axes>"
            ],
            "image/png": "[encoded data removed]"
          },
          "metadata": {
            "needs_background": "light"
          }
        }
      ]
    },
    {
      "cell_type": "code",
      "source": [
        "if __name__==\"__main__\":\n",
        "\n",
        "  \"\"\"\n",
        "  UNIFORM\n",
        "  \"\"\"\n",
        "# Parametros(self,vectorA, vectorb, n)\n",
        "  va=[1,0]\n",
        "  vb=[1,0]\n",
        "  N= [400,0]\n",
        "  x = np.random.uniform(va[0],vb[0],N[0]) ## FDP UNIFORM   \n",
        "  UNI1= EXPOUNIFORM(x) ## TENGO MIS DATOS GUARDADOS \n",
        "  A_estimate,B_estimate,UniformEstimate=UNI1.Uniform(va,vb,N[0])"
      ],
      "metadata": {
        "id": "lrzLIpStRimt",
        "colab": {
          "base_uri": "https://localhost:8080/",
          "height": 530
        },
        "outputId": "572be2c7-35fc-4bfc-eba4-2b52fc46c39d"
      },
      "execution_count": null,
      "outputs": [
        {
          "output_type": "stream",
          "name": "stderr",
          "text": [
            "<ipython-input-71-5e01f0556fc9>:80: RuntimeWarning: divide by zero encountered in log\n",
            "  log = -self.N*np.log(B-A)\n",
            "<ipython-input-71-5e01f0556fc9>:80: RuntimeWarning: invalid value encountered in log\n",
            "  log = -self.N*np.log(B-A)\n"
          ]
        },
        {
          "output_type": "error",
          "ename": "ValueError",
          "evalue": "ignored",
          "traceback": [
            "\u001b[0;31m---------------------------------------------------------------------------\u001b[0m",
            "\u001b[0;31mValueError\u001b[0m                                Traceback (most recent call last)",
            "\u001b[0;32m<ipython-input-92-91c60d13a7d0>\u001b[0m in \u001b[0;36m<module>\u001b[0;34m\u001b[0m\n\u001b[1;32m     10\u001b[0m   \u001b[0mx\u001b[0m \u001b[0;34m=\u001b[0m \u001b[0mnp\u001b[0m\u001b[0;34m.\u001b[0m\u001b[0mrandom\u001b[0m\u001b[0;34m.\u001b[0m\u001b[0muniform\u001b[0m\u001b[0;34m(\u001b[0m\u001b[0mva\u001b[0m\u001b[0;34m[\u001b[0m\u001b[0;36m0\u001b[0m\u001b[0;34m]\u001b[0m\u001b[0;34m,\u001b[0m\u001b[0mvb\u001b[0m\u001b[0;34m[\u001b[0m\u001b[0;36m0\u001b[0m\u001b[0;34m]\u001b[0m\u001b[0;34m,\u001b[0m\u001b[0mN\u001b[0m\u001b[0;34m[\u001b[0m\u001b[0;36m0\u001b[0m\u001b[0;34m]\u001b[0m\u001b[0;34m)\u001b[0m \u001b[0;31m## FDP UNIFORM\u001b[0m\u001b[0;34m\u001b[0m\u001b[0;34m\u001b[0m\u001b[0m\n\u001b[1;32m     11\u001b[0m   \u001b[0mUNI1\u001b[0m\u001b[0;34m=\u001b[0m \u001b[0mEXPOUNIFORM\u001b[0m\u001b[0;34m(\u001b[0m\u001b[0mx\u001b[0m\u001b[0;34m)\u001b[0m \u001b[0;31m## TENGO MIS DATOS GUARDADOS\u001b[0m\u001b[0;34m\u001b[0m\u001b[0;34m\u001b[0m\u001b[0m\n\u001b[0;32m---> 12\u001b[0;31m   \u001b[0mA_estimate\u001b[0m\u001b[0;34m,\u001b[0m\u001b[0mB_estimate\u001b[0m\u001b[0;34m,\u001b[0m\u001b[0mUniformEstimate\u001b[0m\u001b[0;34m=\u001b[0m\u001b[0mUNI1\u001b[0m\u001b[0;34m.\u001b[0m\u001b[0mUniform\u001b[0m\u001b[0;34m(\u001b[0m\u001b[0mva\u001b[0m\u001b[0;34m,\u001b[0m\u001b[0mvb\u001b[0m\u001b[0;34m,\u001b[0m\u001b[0mN\u001b[0m\u001b[0;34m[\u001b[0m\u001b[0;36m0\u001b[0m\u001b[0;34m]\u001b[0m\u001b[0;34m)\u001b[0m\u001b[0;34m\u001b[0m\u001b[0;34m\u001b[0m\u001b[0m\n\u001b[0m",
            "\u001b[0;32m<ipython-input-71-5e01f0556fc9>\u001b[0m in \u001b[0;36mUniform\u001b[0;34m(self, vectorA, vectorb, n)\u001b[0m\n\u001b[1;32m     83\u001b[0m      \u001b[0mB_estimate\u001b[0m\u001b[0;34m=\u001b[0m\u001b[0mB\u001b[0m\u001b[0;34m[\u001b[0m\u001b[0mposicionmax\u001b[0m\u001b[0;34m[\u001b[0m\u001b[0;36m0\u001b[0m\u001b[0;34m]\u001b[0m\u001b[0;34m,\u001b[0m\u001b[0mposicionmax\u001b[0m\u001b[0;34m[\u001b[0m\u001b[0;36m1\u001b[0m\u001b[0;34m]\u001b[0m\u001b[0;34m]\u001b[0m\u001b[0;34m\u001b[0m\u001b[0;34m\u001b[0m\u001b[0m\n\u001b[1;32m     84\u001b[0m      \u001b[0;31m## GENERAMOS LA UNIFORME ESTIMADA\u001b[0m\u001b[0;34m\u001b[0m\u001b[0;34m\u001b[0m\u001b[0;34m\u001b[0m\u001b[0m\n\u001b[0;32m---> 85\u001b[0;31m      \u001b[0mUniformEstimate\u001b[0m\u001b[0;34m=\u001b[0m \u001b[0mnp\u001b[0m\u001b[0;34m.\u001b[0m\u001b[0mrandom\u001b[0m\u001b[0;34m.\u001b[0m\u001b[0muniform\u001b[0m\u001b[0;34m(\u001b[0m\u001b[0mA_estimate\u001b[0m\u001b[0;34m,\u001b[0m\u001b[0mB_estimate\u001b[0m\u001b[0;34m,\u001b[0m\u001b[0mself\u001b[0m\u001b[0;34m.\u001b[0m\u001b[0mN\u001b[0m\u001b[0;34m)\u001b[0m\u001b[0;34m;\u001b[0m\u001b[0;34m\u001b[0m\u001b[0;34m\u001b[0m\u001b[0m\n\u001b[0m\u001b[1;32m     86\u001b[0m      \u001b[0;32mif\u001b[0m\u001b[0;34m(\u001b[0m\u001b[0mself\u001b[0m\u001b[0;34m.\u001b[0m\u001b[0mplot\u001b[0m\u001b[0;34m)\u001b[0m\u001b[0;34m:\u001b[0m\u001b[0;34m\u001b[0m\u001b[0;34m\u001b[0m\u001b[0m\n\u001b[1;32m     87\u001b[0m       \u001b[0mfig\u001b[0m\u001b[0;34m=\u001b[0m\u001b[0mpl\u001b[0m\u001b[0;34m.\u001b[0m\u001b[0mfigure\u001b[0m\u001b[0;34m(\u001b[0m\u001b[0mfigsize\u001b[0m\u001b[0;34m=\u001b[0m\u001b[0;34m(\u001b[0m\u001b[0;36m6\u001b[0m\u001b[0;34m,\u001b[0m\u001b[0;36m6\u001b[0m\u001b[0;34m)\u001b[0m\u001b[0;34m)\u001b[0m\u001b[0;34m\u001b[0m\u001b[0;34m\u001b[0m\u001b[0m\n",
            "\u001b[0;32mmtrand.pyx\u001b[0m in \u001b[0;36mnumpy.random.mtrand.RandomState.uniform\u001b[0;34m()\u001b[0m\n",
            "\u001b[0;32m_common.pyx\u001b[0m in \u001b[0;36mnumpy.random._common.cont\u001b[0;34m()\u001b[0m\n",
            "\u001b[0;32m_common.pyx\u001b[0m in \u001b[0;36mnumpy.random._common.cont_broadcast_2\u001b[0;34m()\u001b[0m\n",
            "\u001b[0;32m__init__.pxd\u001b[0m in \u001b[0;36mnumpy.PyArray_MultiIterNew3\u001b[0;34m()\u001b[0m\n",
            "\u001b[0;31mValueError\u001b[0m: shape mismatch: objects cannot be broadcast to a single shape.  Mismatch is between arg 0 with shape (400,) and arg 1 with shape (0,)."
          ]
        }
      ]
    }
  ]
}